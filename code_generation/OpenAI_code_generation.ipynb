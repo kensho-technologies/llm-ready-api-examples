{
  "cells": [
    {
      "attachments": {},
      "cell_type": "markdown",
      "metadata": {},
      "source": [
        "##### Copyright 2024 Kensho Technologies, LLC"
      ]
    },
    {
      "attachments": {},
      "cell_type": "markdown",
      "metadata": {
        "id": "-zOQ3ZfKSrT2"
      },
      "source": [
        "# OpenAI Code Generation\n",
        "**_GPT to retrieve data from the LLM-ready API using the kFinance python library!_**\n",
        "\n",
        "What you'll need to run this notebook:\n",
        "\n",
        "1.   kFinance credentials\n",
        "2.   An OpenAI API key\n",
        "\n",
        "<table class=\"tfo-notebook-buttons\" align=\"left\">\n",
        "  <td>\n",
        "    <a target=\"_blank\" href=\"https://colab.research.google.com/github/kensho-technologies/llm-ready-api-examples/blob/main/code_generation/OpenAI_code_generation.ipynb\"><img src=\"../images/colab_logo_32px.png\" />Run in Google Colab</a>\n",
        "  </td>\n",
        "</table>"
      ]
    },
    {
      "attachments": {},
      "cell_type": "markdown",
      "metadata": {
        "id": "ZHZsGc5H3Via"
      },
      "source": [
        "# Install dependencies"
      ]
    },
    {
      "cell_type": "code",
      "execution_count": null,
      "metadata": {
        "colab": {
          "base_uri": "https://localhost:8080/"
        },
        "collapsed": true,
        "id": "E2I-CLpyciNp",
        "outputId": "1f0a2cc8-e6f3-42a2-d69f-80e6e15907fd"
      },
      "outputs": [],
      "source": [
        "# install the latest version of kFinance package\n",
        "%pip install https://kfinance.kensho.com/static/kensho_finance.tar.gz\n",
        "# install the LLM Python package\n",
        "%pip install openai"
      ]
    },
    {
      "attachments": {},
      "cell_type": "markdown",
      "metadata": {
        "id": "dNsZ0LHO3dGJ"
      },
      "source": [
        "# Instantiate kFinance Client"
      ]
    },
    {
      "cell_type": "code",
      "execution_count": null,
      "metadata": {
        "id": "5E7Fmx101YsW"
      },
      "outputs": [],
      "source": [
        "# import the kfinance client\n",
        "from kensho_finance.kfinance import Client\n",
        "# import standard libraries\n",
        "import functools\n",
        "import types\n",
        "import json\n",
        "import sys\n",
        "# check if the current environment is a Google Colab\n",
        "try:\n",
        "  import google.colab\n",
        "  IN_GOOGLE_COLAB = True\n",
        "except:\n",
        "  IN_GOOGLE_COLAB = False\n",
        "\n",
        "# initialize the kfinance client with one of the following:\n",
        "# 1. your kensho refresh token\n",
        "# 2. your kensho client id and kensho private key\n",
        "# 3. automated login (not accessible on Google Collab)\n",
        "if IN_GOOGLE_COLAB:\n",
        "    kensho_refresh_token = \"\"\n",
        "    assert kensho_refresh_token != \"\", \"kensho refresh token is empty! Make sure to enter your kensho refresh token above\"\n",
        "    kfinance_client = Client(refresh_token=kensho_refresh_token)\n",
        "\n",
        "    # kensho_client_id = \"\"\n",
        "    # kensho_private_key = \"\"\n",
        "    # assert kensho_client_id != \"\", \"kensho client id is empty! Make sure to enter your kensho client id above\"\n",
        "    # assert kensho_private_key != \"\", \"kensho private key is empty! Make sure to enter your kensho private key above\"\n",
        "    # kfinance_client = Client(client_id=kensho_client_id, private_key=kensho_private_key)\n",
        "else:\n",
        "    kfinance_client = Client()"
      ]
    },
    {
      "attachments": {},
      "cell_type": "markdown",
      "metadata": {
        "id": "IyowaYqw4E6d"
      },
      "source": [
        "# Use OpenAI to Generate kFinance Code\n",
        "\n"
      ]
    },
    {
      "cell_type": "code",
      "execution_count": null,
      "metadata": {
        "id": "0AFc2wX1gfTG"
      },
      "outputs": [],
      "source": [
        "# sample question to ask the LLM\n",
        "question = \"How have LOW's and HD's accrued expenses changed over 2023Q1 to 2024Q2?\""
      ]
    },
    {
      "cell_type": "code",
      "execution_count": null,
      "metadata": {
        "collapsed": true,
        "id": "pO-vNq1b4o-m"
      },
      "outputs": [],
      "source": [
        "# the full prompt that will be given to the LLM, which includes directions for code generation in client.prompt\n",
        "model_prompt = kfinance_client.prompt + \"\\n\\nQUESTION: \" + question"
      ]
    },
    {
      "cell_type": "code",
      "execution_count": null,
      "metadata": {
        "colab": {
          "base_uri": "https://localhost:8080/"
        },
        "id": "9XfUwOWM3jBe",
        "outputId": "dea3bd3d-ddef-423e-f285-fac10a025837"
      },
      "outputs": [],
      "source": [
        "# import OpenAI\n",
        "from openai import OpenAI\n",
        "# initialize OpenAI with your OpenAI API key\n",
        "openai_api_key = \"\" # replace with your own key\n",
        "assert openai_api_key != \"\", \"OpenAI API key is empty! Make sure to enter your OpenAI API key above\"\n",
        "# good client config for OpenAI. There are other ways to access OpenAI\n",
        "openai_client = OpenAI(\n",
        "  api_key=openai_api_key,\n",
        ")\n",
        "# good client config for OpenAI. There are other ways to access OpenAI\n",
        "open_ai_model_response = openai_client.chat.completions.create(\n",
        "    model=\"gpt-4o\", # you can use another OpenAI model\n",
        "        messages=[\n",
        "            {\n",
        "                \"role\": \"user\",\n",
        "                \"content\": model_prompt, # give the model the full model prompt\n",
        "            }\n",
        "        ],\n",
        "        temperature = 0,\n",
        "        seed = 0,\n",
        "    ).choices[0].message.content # parse the response\n",
        "print(open_ai_model_response) # print the response content"
      ]
    }
  ],
  "metadata": {
  "language_info": {
   "name": "python"
  },
  "orig_nbformat": 4
 },
 "nbformat": 4,
 "nbformat_minor": 2
}
