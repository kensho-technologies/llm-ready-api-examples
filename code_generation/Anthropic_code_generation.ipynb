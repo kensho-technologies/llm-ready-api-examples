{
  "cells": [
    {
      "attachments": {},
      "cell_type": "markdown",
      "metadata": {},
      "source": [
        "##### Copyright 2025 Kensho Technologies, LLC"
      ]
    },
    {
      "attachments": {},
      "cell_type": "markdown",
      "metadata": {
        "id": "-zOQ3ZfKSrT2"
      },
      "source": [
        "# Anthropic Code Generation\n",
        "**_Claude to retrieve data from the LLM-ready API using the kFinance python library!_**\n",
        "\n",
        "What you'll need to run this notebook:\n",
        "\n",
        "1.   kFinance credentials\n",
        "2.   An Anthropic API key\n",
        "\n",
        "<table class=\"tfo-notebook-buttons\" align=\"left\">\n",
        "  <td>\n",
        "    <a target=\"_blank\" href=\"https://colab.research.google.com/github/kensho-technologies/llm-ready-api-examples/blob/main/code_generation/Anthropic_code_generation.ipynb\"><img src=\"../images/colab_logo_32px.png\" />Run in Google Colab</a>\n",
        "  </td>\n",
        "</table>"
      ]
    },
    {
      "attachments": {},
      "cell_type": "markdown",
      "metadata": {
        "id": "ZHZsGc5H3Via"
      },
      "source": [
        "# Install dependencies"
      ]
    },
    {
      "cell_type": "code",
      "execution_count": null,
      "metadata": {
        "colab": {
          "base_uri": "https://localhost:8080/"
        },
        "collapsed": true,
        "id": "E2I-CLpyciNp",
        "outputId": "1f0a2cc8-e6f3-42a2-d69f-80e6e15907fd"
      },
      "outputs": [],
      "source": [
        "# install the latest version of kFinance package\n",
        "%pip install kensho-kfinance\n",
        "# install the LLM Python package\n",
        "%pip install anthropic"
      ]
    },
    {
      "attachments": {},
      "cell_type": "markdown",
      "metadata": {
        "id": "dNsZ0LHO3dGJ"
      },
      "source": [
        "# Instantiate kFinance Client"
      ]
    },
    {
      "cell_type": "code",
      "execution_count": null,
      "metadata": {
        "id": "5E7Fmx101YsW"
      },
      "outputs": [],
      "source": [
        "# import the kfinance client\n",
        "from kensho_finance.kfinance import Client\n",
        "# import standard libraries\n",
        "import functools\n",
        "import types\n",
        "import json\n",
        "import sys\n",
        "# check if the current environment is a Google Colab\n",
        "try:\n",
        "  import google.colab\n",
        "  IN_GOOGLE_COLAB = True\n",
        "except:\n",
        "  IN_GOOGLE_COLAB = False\n",
        "\n",
        "# initialize the kfinance client with one of the following:\n",
        "# 1. your kensho refresh token\n",
        "# 2. your kensho client id and kensho private key\n",
        "# 3. automated login (not accessible on Google Collab)\n",
        "if IN_GOOGLE_COLAB:\n",
        "    kensho_refresh_token = \"\"\n",
        "    assert kensho_refresh_token != \"\", \"kensho refresh token is empty! Make sure to enter your kensho refresh token above\"\n",
        "    client = Client(refresh_token=kensho_refresh_token)\n",
        "\n",
        "    # kensho_client_id = \"\"\n",
        "    # kensho_private_key = \"\"\n",
        "    # assert kensho_client_id != \"\", \"kensho client id is empty! Make sure to enter your kensho client id above\"\n",
        "    # assert kensho_private_key != \"\", \"kensho private key is empty! Make sure to enter your kensho private key above\"\n",
        "    # client = Client(client_id=kensho_client_id, private_key=kensho_private_key)\n",
        "else:\n",
        "    client = Client()"
      ]
    },
    {
      "attachments": {},
      "cell_type": "markdown",
      "metadata": {
        "id": "IyowaYqw4E6d"
      },
      "source": [
        "# Use Anthropic to Generate kFinance Code\n",
        "\n"
      ]
    },
    {
      "cell_type": "code",
      "execution_count": null,
      "metadata": {
        "id": "0AFc2wX1gfTG"
      },
      "outputs": [],
      "source": [
        "# sample question to ask the LLM\n",
        "question = \"How have LOW's and HD's accrued expenses changed over 2023Q1 to 2024Q2?\""
      ]
    },
    {
      "cell_type": "code",
      "execution_count": null,
      "metadata": {
        "collapsed": true,
        "id": "pO-vNq1b4o-m"
      },
      "outputs": [],
      "source": [
        "# the full prompt that will be given to the LLM, which includes directions for code generation in client.prompt\n",
        "model_prompt = client.prompt + \"\\n\\nQUESTION: \" + question"
      ]
    },
    {
      "cell_type": "code",
      "execution_count": null,
      "metadata": {
        "colab": {
          "base_uri": "https://localhost:8080/"
        },
        "id": "9XfUwOWM3jBe",
        "outputId": "dea3bd3d-ddef-423e-f285-fac10a025837"
      },
      "outputs": [],
      "source": [
        "# import Anthropic and necessary Antrhopic types\n",
        "from anthropic import Anthropic\n",
        "# initialize Anthropic with your Anthropic API key\n",
        "anthropic_api_key = \"\" # replace with your own key\n",
        "assert anthropic_api_key != \"\", \"Anthropic API key is empty! Make sure to enter your Anthropic API key above\"\n",
        "# good client config for Anthropic. There are other ways to access Anthropic\n",
        "anthropic_client = Anthropic(\n",
        "  api_key=anthropic_api_key\n",
        ")\n",
        "claude_model_response = anthropic_client.messages.create(\n",
        "  model=\"claude-3-7-sonnet-20250219\", # you can use another Anthropic model\n",
        "  max_tokens=1024,\n",
        "  messages=[\n",
        "      {\"role\": \"user\", \"content\": model_prompt} # give the model the full model prompt\n",
        "  ]\n",
        ").content[0].text # parse the response\n",
        "print(claude_model_response) # print the response content"
      ]
    }
  ],
  "metadata": {
    "language_info": {
      "name": "python"
    },
    "orig_nbformat": 4
  },
  "nbformat": 4,
  "nbformat_minor": 2
}
