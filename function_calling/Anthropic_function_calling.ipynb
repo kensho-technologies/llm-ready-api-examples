{
 "cells": [
  {
   "attachments": {},
   "cell_type": "markdown",
   "metadata": {},
   "source": [
    "##### Copyright 2024 Kensho Technologies, LLC"
   ]
  },
  {
   "attachments": {},
   "cell_type": "markdown",
   "metadata": {
    "id": "-zOQ3ZfKSrT2"
   },
   "source": [
    "# Anthropic Function Calling\n",
    "**_Claude to retrieve data from the LLM-ready API using the kFinance python library!_**\n",
    "\n",
    "What you'll need to run this notebook:\n",
    "\n",
    "1.   kFinance credentials\n",
    "2.   An Anthropic API key\n",
    "\n",
    "<table class=\"tfo-notebook-buttons\" align=\"left\">\n",
    "  <td>\n",
    "    <a target=\"_blank\" href=\"https://colab.research.google.com/github/kensho-technologies/llm-ready-api-examples/blob/main/function_calling/Anthropic_function_calling.ipynb\"><img src=\"../images/colab_logo_32px.png\" />Run in Google Colab</a>\n",
    "  </td>\n",
    "</table>"
   ]
  },
  {
   "attachments": {},
   "cell_type": "markdown",
   "metadata": {
    "id": "ruP6MHfzR2Y4"
   },
   "source": [
    "## Install dependencies"
   ]
  },
  {
   "cell_type": "code",
   "execution_count": null,
   "metadata": {
    "colab": {
     "base_uri": "https://localhost:8080/"
    },
    "collapsed": true,
    "id": "YAwU0_7TRhV7",
    "jupyter": {
     "outputs_hidden": true
    },
    "outputId": "e6ebf89c-7680-4852-e52b-c99610107cdf"
   },
   "outputs": [],
   "source": [
    "# install the latest version of kFinance package\n",
    "%pip install https://kfinance.kensho.com/static/kensho_finance.tar.gz\n",
    "# install the LLM Python package\n",
    "%pip install anthropic"
   ]
  },
  {
   "attachments": {},
   "cell_type": "markdown",
   "metadata": {
    "id": "e_G2p3tTSHeo"
   },
   "source": [
    "# Instantiate kFinance Client"
   ]
  },
  {
   "cell_type": "code",
   "execution_count": null,
   "metadata": {
    "id": "7QPnfPuX87rg"
   },
   "outputs": [],
   "source": [
    "# import the kfinance client\n",
    "from kensho_finance.kfinance import Client\n",
    "# import standard libraries\n",
    "import functools\n",
    "import types\n",
    "import json\n",
    "import sys\n",
    "# check if the current environment is a Google Colab\n",
    "try:\n",
    "  import google.colab\n",
    "  IN_GOOGLE_COLAB = True\n",
    "except:\n",
    "  IN_GOOGLE_COLAB = False\n",
    "\n",
    "# initialize the kfinance client with one of the following:\n",
    "# 1. your kensho refresh token\n",
    "# 2. your kensho client id and kensho private key\n",
    "# 3. automated login (not accessible on Google Collab)\n",
    "if IN_GOOGLE_COLAB:\n",
    "    kensho_refresh_token = \"\"\n",
    "    assert kensho_refresh_token != \"\", \"kensho refresh token is empty! Make sure to enter your kensho refresh token above\"\n",
    "    kfinance_client = Client(refresh_token=kensho_refresh_token)\n",
    "\n",
    "    # kensho_client_id = \"\"\n",
    "    # kensho_private_key = \"\"\n",
    "    # assert kensho_client_id != \"\", \"kensho client id is empty! Make sure to enter your kensho client id above\"\n",
    "    # assert kensho_private_key != \"\", \"kensho private key is empty! Make sure to enter your kensho private key above\"\n",
    "    # kfinance_client = Client(client_id=kensho_client_id, private_key=kensho_private_key)\n",
    "else:\n",
    "    kfinance_client = Client()\n",
    "\n",
    "# the prompt given to all LLMs to instruct them how to use tools to call the kFinance API\n",
    "SYSTEM_PROMPT = \"You are an LLM trying to help financial analysts. Use the supplied tools to assist the user. Always use the `get_latest` function when asked about the last or most recent quarter or time period etc. Always use the `get_latest` function when a tool requires a time parameter and the time is unspecified in the question\"\n",
    "# the message shown to users to prompt them to input a message\n",
    "USER_INPUT_PROMPT = \"Enter your message and press the [return] key\\n\""
   ]
  },
  {
   "attachments": {},
   "cell_type": "markdown",
   "metadata": {
    "id": "SxCRiFSJviXk"
   },
   "source": [
    "# Anthropic Function Calling"
   ]
  },
  {
   "cell_type": "code",
   "execution_count": null,
   "metadata": {
    "id": "kWubSXhLSYqH"
   },
   "outputs": [],
   "source": [
    "# import Anthropic and necessary Antrhopic types\n",
    "from anthropic import Anthropic\n",
    "from anthropic.types import TextBlock, ToolUseBlock\n",
    "\n",
    "# parse response message for text\n",
    "def text_from_response_message(response_message):\n",
    "  if response_message.content is None:\n",
    "    return None\n",
    "  if isinstance(response_message.content, list) and list(filter(lambda c: isinstance(c, TextBlock), response_message.content)) != []:\n",
    "    return list(filter(lambda c: isinstance(c, TextBlock), response_message.content))[0].text\n",
    "  elif not isinstance(response_message.content, list):\n",
    "    return response_message.content.text\n",
    "  return None\n",
    "\n",
    "# parts response message for tool calls\n",
    "def tool_calls_from_response_message(response_message):\n",
    "  if not isinstance(response_message.content, list):\n",
    "    return []\n",
    "  return list(filter(lambda c: isinstance(c, ToolUseBlock,), response_message.content))\n",
    "\n",
    "# the AntropicChat class is used to create a chat loop that automatically executes function calls\n",
    "class AnthropicChat:\n",
    "  def __init__(self, kfinance_client):\n",
    "    # initialize Anthropic with your Anthropic API key\n",
    "    anthropic_api_key = \"\" # replace with your own key\n",
    "    assert anthropic_api_key != \"\", \"Anthropic API key is empty! Make sure to enter your Anthropic API key above\"\n",
    "    # good client config for Anthropic. There are other ways to access Anthropic\n",
    "    self.anthropic = Anthropic(\n",
    "      api_key=anthropic_api_key\n",
    "    )\n",
    "    # initialize the kFinance client\n",
    "    self.kfinance_client = kfinance_client\n",
    "    # initialize tools and tool descriptions\n",
    "    self.tools = kfinance_client.tools\n",
    "    self.tool_descriptions = kfinance_client.anthropic_tool_descriptions\n",
    "    # initialize the message history\n",
    "    self.messages = []\n",
    "\n",
    "  def print_response(self):\n",
    "      \"\"\"Print and return response\"\"\"\n",
    "      # try to send the message history to Anthropic and get the response\n",
    "      response = self.anthropic.messages.create(\n",
    "        model=\"claude-3-opus-20240229\", # you can use any Anthropic model that supports function calling\n",
    "        system=SYSTEM_PROMPT,\n",
    "        messages=self.messages,\n",
    "        tools=self.tool_descriptions,\n",
    "        max_tokens=2048,\n",
    "      )\n",
    "      response_message = response\n",
    "      self.messages.append({\"role\": \"assistant\", \"content\": response_message.content})\n",
    "      # if the response contains text , print out the text\n",
    "      response_message_text = text_from_response_message(response_message)\n",
    "      if response_message_text is not None:\n",
    "        sys.stdout.write(response_message_text)\n",
    "\n",
    "      return response_message\n",
    "\n",
    "  def print_responses(self, user_input: str) -> list[str]:\n",
    "      \"\"\"Print responses and call tools\"\"\"\n",
    "      # append the current user input as a message to the message history\n",
    "      self.messages.append({\"role\": \"user\", \"content\": user_input})\n",
    "      # get the Anthropic response to the message history\n",
    "      response_message = self.print_response()\n",
    "      # while the response has tool calls\n",
    "      tool_calls = tool_calls_from_response_message(response_message)\n",
    "      while tool_calls != []:\n",
    "          # for each tool call, execute the function and arguments specified in the tool call\n",
    "          # and append the output as a message to the message history\n",
    "          for tool_call in tool_calls:\n",
    "              function = tool_call.name\n",
    "              arguments = tool_call.input\n",
    "              # try to execute the function and arguments specified in the tool call\n",
    "              try:\n",
    "                  output = self.tools[function](**arguments)\n",
    "                  # append the output as a message to the message history\n",
    "                  self.messages.append(\n",
    "                      {\n",
    "                          \"role\": \"user\",\n",
    "                          \"content\": [{\n",
    "                              \"type\": \"tool_result\",\n",
    "                              \"content\": str(output),\n",
    "                              \"tool_use_id\": tool_call.id,\n",
    "                        }]\n",
    "                      }\n",
    "                  )\n",
    "              # if there's an exception thrown while executing the function,\n",
    "              # append the exception as a message to the message history\n",
    "              except Exception as e:\n",
    "                  self.messages.append(\n",
    "                      {\n",
    "                          \"role\": \"user\",\n",
    "                          \"content\": [{\n",
    "                              \"type\": \"tool_result\",\n",
    "                              \"content\": str(e),\n",
    "                              \"tool_use_id\": tool_call.id,\n",
    "                              \"is_error\": True,\n",
    "                          }]\n",
    "                      }\n",
    "                  )\n",
    "          # get a new response and parse tool calls\n",
    "          response_message = self.print_response()\n",
    "          tool_calls = tool_calls_from_response_message(response_message)\n",
    "      return None\n",
    "\n",
    "  def start_chatting(self) -> None:\n",
    "      \"\"\"Open chat shell\"\"\"\n",
    "      # prompt for user input and get the Anthropic response in a loop\n",
    "      while True:\n",
    "          user_input = input(USER_INPUT_PROMPT)\n",
    "          self.print_responses(user_input)\n",
    "          sys.stdout.write(\"\\n\")"
   ]
  },
  {
   "cell_type": "code",
   "execution_count": null,
   "metadata": {
    "colab": {
     "base_uri": "https://localhost:8080/",
     "height": 1000
    },
    "id": "SWy-B6jpSik3",
    "outputId": "e3711a34-d385-4bbe-945a-68bee195bd36"
   },
   "outputs": [],
   "source": [
    "# instantiate the AnthropicChat with the kfinance client\n",
    "anthropic_chat = AnthropicChat(kfinance_client)\n",
    "# start chatting with the Anthropic\n",
    "anthropic_chat.start_chatting()"
   ]
  }
 ],
 "metadata": {
  "language_info": {
   "name": "python"
  },
  "orig_nbformat": 4
 },
 "nbformat": 4,
 "nbformat_minor": 2
}
